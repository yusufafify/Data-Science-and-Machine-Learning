{
 "cells": [
  {
   "cell_type": "code",
   "execution_count": 2,
   "id": "e4134936",
   "metadata": {},
   "outputs": [],
   "source": [
    "import tensorflow as tf\n",
    "import matplotlib.pyplot as plt"
   ]
  },
  {
   "cell_type": "code",
   "execution_count": null,
   "id": "398639ed",
   "metadata": {},
   "outputs": [],
   "source": [
    "class WideDeepModel(tf.keras.Model):\n",
    "    def __init__(self, input_shape, units=30, act='relu', dropout_rate=0.2, **kwargs):\n",
    "        super(WideDeepModel, self).__init__(**kwargs)\n",
    "        self.units = units\n",
    "        self.act = act\n",
    "        self.dropout_rate = dropout_rate\n",
    "        self.input_shape=input_shape\n",
    "\n",
    "        self.input_layer=tf.keras.layers.Input(input_shape)\n",
    "        self.dense_1 = tf.keras.layers.Dense(units=self.units, activation=self.act)\n",
    "        self.dropout_1 = tf.keras.layers.Dropout(self.dropout_rate)\n",
    "        self.dense_2 = tf.keras.layers.Dense(units=self.units, activation=self.act)\n",
    "        self.dropout_2 = tf.keras.layers.Dropout(self.dropout_rate)\n",
    "        self.dense_3 = tf.keras.layers.Dense(units=self.units, activation=self.act)\n",
    "        self.dropout_3 = tf.keras.layers.Dropout(self.dropout_rate)\n",
    "        self.dense_4 = tf.keras.layers.Dense(units=self.units, activation=self.act)\n",
    "        self.dropout_4 = tf.keras.layers.Dropout(self.dropout_rate)\n",
    "        self.dense_5 = tf.keras.layers.Dense(units=self.units, activation=self.act)\n",
    "        self.output_layer=tf.keras.layers.Dense(units=10,activation=tf.nn.softmax, name='output_layer')\n",
    "    \n",
    "    def build_graph(self):\n",
    "        x=self.input_layer\n",
    "        return tf.keras.Model(inputs=[x],outputs=self.call(x))\n",
    "    \n",
    "    def call(self, inputs):\n",
    "        dense_1 = self.dense_1(inputs)\n",
    "        dropout_1 = self.dropout_1(dense_1)\n",
    "        dense_2 = self.dense_2(dropout_1)\n",
    "        dropout_2 = self.dropout_2(dense_2)\n",
    "        dense_3 = self.dense_3(dropout_2)\n",
    "        dropout_3 = self.dropout_3(dense_3)\n",
    "        dense_4 = self.dense_4(dropout_3)\n",
    "        dropout_4 = self.dropout_4(dense_4)\n",
    "        dense_5 = self.dense_5(dropout_4)\n",
    "        output = self.output_layer(dense_5)\n",
    "        return output\n",
    "    \n"
   ]
  }
 ],
 "metadata": {
  "kernelspec": {
   "display_name": ".venv",
   "language": "python",
   "name": "python3"
  },
  "language_info": {
   "codemirror_mode": {
    "name": "ipython",
    "version": 3
   },
   "file_extension": ".py",
   "mimetype": "text/x-python",
   "name": "python",
   "nbconvert_exporter": "python",
   "pygments_lexer": "ipython3",
   "version": "3.11.9"
  }
 },
 "nbformat": 4,
 "nbformat_minor": 5
}
