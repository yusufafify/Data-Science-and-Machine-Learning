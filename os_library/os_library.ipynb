{
 "cells": [
  {
   "cell_type": "code",
   "execution_count": 2,
   "id": "3559ebd6",
   "metadata": {},
   "outputs": [],
   "source": [
    "import os"
   ]
  },
  {
   "cell_type": "code",
   "execution_count": 5,
   "id": "44cbbe87",
   "metadata": {},
   "outputs": [
    {
     "name": "stdout",
     "output_type": "stream",
     "text": [
      "d:\\side_work\\Data_Science_ML\\os_library\n"
     ]
    }
   ],
   "source": [
    "# os.getcwd() returns the current working directory as a string\n",
    "print(os.getcwd())"
   ]
  },
  {
   "cell_type": "code",
   "execution_count": 10,
   "id": "d3983eac",
   "metadata": {},
   "outputs": [],
   "source": [
    "# os.mkdir() creates a new directory with the specified path.\n",
    "# If the directory already exists, it will raise a FileExistsError.\n",
    "os.mkdir('d:\\side_work\\Data_Science_ML\\os_library\\hello_from_mkdir_method')"
   ]
  },
  {
   "cell_type": "code",
   "execution_count": null,
   "id": "522dfc2b",
   "metadata": {},
   "outputs": [],
   "source": [
    "# os.makedirs() creates all intermediate-level directories needed to contain the leaf directory.\n",
    "# If any of the directories already exist, it will not raise an error.\n",
    "os.makedirs('d:\\side_work\\Data_Science_ML\\os_library\\multiple_sub_dirs\\sub_dir1\\sub_dir2')"
   ]
  },
  {
   "cell_type": "code",
   "execution_count": null,
   "id": "eecfbbbc",
   "metadata": {},
   "outputs": [
    {
     "name": "stdout",
     "output_type": "stream",
     "text": [
      "['.venv', 'os_library']\n"
     ]
    }
   ],
   "source": [
    "# List all files and directories in the specified path\n",
    "# 'path' is the directory whose contents we want to list\n",
    "# os.listdir(path) returns a list of the names of the entries in the directory given by 'path'\n",
    "path='d:\\side_work\\Data_Science_ML'\n",
    "dir_list=os.listdir(path)\n",
    "print(dir_list)"
   ]
  },
  {
   "cell_type": "code",
   "execution_count": null,
   "id": "abbefdda",
   "metadata": {},
   "outputs": [],
   "source": [
    "# os.remove() deletes the specified file from the file system.\n",
    "# Make sure the file exists at the given path, otherwise a FileNotFoundError will be raised.\n",
    "os.remove('d:\\side_work\\Data_Science_ML\\os_library\\linkedin.png')"
   ]
  },
  {
   "cell_type": "code",
   "execution_count": null,
   "id": "82384363",
   "metadata": {},
   "outputs": [],
   "source": [
    "# os.rmdir() removes the specified empty directory.\n",
    "# If the directory is not empty (containing sub dirs of files) or does not exist, a FileNotFoundError or OSError will be raised.\n",
    "os.rmdir('d:\\side_work\\Data_Science_ML\\os_library\\hello_from_mkdir_method')"
   ]
  },
  {
   "cell_type": "code",
   "execution_count": null,
   "id": "98184c0e",
   "metadata": {},
   "outputs": [
    {
     "data": {
      "text/plain": [
       "False"
      ]
     },
     "execution_count": 9,
     "metadata": {},
     "output_type": "execute_result"
    }
   ],
   "source": [
    "# os.path.exists() checks if the specified file or directory exists.\n",
    "# It returns True if the file or directory exists, otherwise False.\n",
    "os.path.exists('d:\\side_work\\Data_Science_ML\\os_library\\hello.txt')"
   ]
  },
  {
   "cell_type": "code",
   "execution_count": 17,
   "id": "019c7097",
   "metadata": {},
   "outputs": [],
   "source": [
    "# os.rename() renames a file or directory.\n",
    "# The first argument is the current name, and the second argument is the new name.\n",
    "# Here, we'll rename the 'os_library' directory to 'os_library_renamed' inside the given path.\n",
    "\n",
    "old_name = os.path.join(path, 'os_library\\hello.txt')\n",
    "new_name = os.path.join(path, 'os_library\\hello2.txt')\n",
    "\n",
    "os.rename(old_name, new_name)"
   ]
  },
  {
   "cell_type": "code",
   "execution_count": null,
   "id": "220b0c86",
   "metadata": {},
   "outputs": [
    {
     "name": "stdout",
     "output_type": "stream",
     "text": [
      "hello from youssef\n"
     ]
    }
   ],
   "source": [
    "# Create the full path for 'hello.txt' inside the 'os_library' directory\n",
    "# Open the file in write mode ('w'), which will create the file if it doesn't exist or overwrite it if it does\n",
    "# Write the specified string to the file and close it automatically using the 'with' statement\n",
    "hello_path = os.path.join(path, 'os_library', 'hello.txt')\n",
    "with open(hello_path,mode='w') as f:\n",
    "    f.write('hello from youssef')\n",
    "\n",
    "\n",
    "# Open the file in read mode ('r') to read its contents\n",
    "# Read the entire content of the file and print it to the console\n",
    "with open(hello_path,mode='r') as f:\n",
    "    information=f.read()\n",
    "    print(information)"
   ]
  }
 ],
 "metadata": {
  "kernelspec": {
   "display_name": ".venv",
   "language": "python",
   "name": "python3"
  },
  "language_info": {
   "codemirror_mode": {
    "name": "ipython",
    "version": 3
   },
   "file_extension": ".py",
   "mimetype": "text/x-python",
   "name": "python",
   "nbconvert_exporter": "python",
   "pygments_lexer": "ipython3",
   "version": "3.11.9"
  }
 },
 "nbformat": 4,
 "nbformat_minor": 5
}
