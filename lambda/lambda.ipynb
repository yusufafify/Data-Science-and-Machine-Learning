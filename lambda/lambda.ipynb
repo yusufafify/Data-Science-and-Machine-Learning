{
 "cells": [
  {
   "cell_type": "code",
   "execution_count": 1,
   "id": "86dee0c2",
   "metadata": {},
   "outputs": [],
   "source": [
    "# This cell defines four simple functions:\n",
    "# - f1: prints the number 5.\n",
    "# - f2: returns the number 5.\n",
    "# - f3: takes an argument 'a' and prints it.\n",
    "# - f4: takes an argument 'a' and returns it.\n",
    "def f1():\n",
    "    print(5)\n",
    "\n",
    "def f2():\n",
    "    return 5\n",
    "\n",
    "def f3(a):\n",
    "    print(a)\n",
    "\n",
    "def f4(a):\n",
    "    return a"
   ]
  },
  {
   "cell_type": "code",
   "execution_count": null,
   "id": "662a2d51",
   "metadata": {},
   "outputs": [
    {
     "data": {
      "text/plain": [
       "<function __main__.<lambda>(a)>"
      ]
     },
     "execution_count": 3,
     "metadata": {},
     "output_type": "execute_result"
    }
   ],
   "source": [
    "# The following are examples of lambda (anonymous) functions in Python:\n",
    "\n",
    "# This lambda takes an argument 'a' and prints it.\n",
    "lambda a: print(a)\n",
    "\n",
    "# This lambda takes an argument 'a' and returns it.\n",
    "lambda a: a\n",
    "\n",
    "# Note: You cannot use 'return' in a lambda. For example, 'lambda a: return a' will raise a syntax error.\n",
    "lambda a:print(a)\n",
    "\n",
    "lambda a:a\n",
    "#lambda a:return a --> will raise error directly add a:a"
   ]
  },
  {
   "cell_type": "code",
   "execution_count": null,
   "id": "5b01ea47",
   "metadata": {},
   "outputs": [],
   "source": [
    "# The following are lambda (anonymous) functions equivalent to the previously defined functions:\n",
    "# - l1: prints the number 5 (no arguments).\n",
    "# - l2: returns the number 5 (no arguments).\n",
    "# - l3: takes an argument 'a' and prints it.\n",
    "# - l4: takes an argument 'a' and returns it.\n",
    "l1=lambda :print(5)\n",
    "l2=lambda :5\n",
    "l3=lambda a:print(a)\n",
    "l4=lambda a:a"
   ]
  },
  {
   "cell_type": "code",
   "execution_count": 7,
   "id": "9ebcad36",
   "metadata": {},
   "outputs": [
    {
     "name": "stdout",
     "output_type": "stream",
     "text": [
      "4\n",
      "4\n"
     ]
    }
   ],
   "source": [
    "## Testing the lambda and its corresponding defined function\n",
    "f3(4)\n",
    "l3(4)"
   ]
  },
  {
   "cell_type": "code",
   "execution_count": 9,
   "id": "5ff23002",
   "metadata": {},
   "outputs": [
    {
     "name": "stdout",
     "output_type": "stream",
     "text": [
      "9\n",
      "64\n"
     ]
    }
   ],
   "source": [
    "# This function f5 takes an argument 'a' and returns a lambda function.\n",
    "# The returned lambda takes an argument 'b' and raises it to the power of 'a' (b**a).\n",
    "# This allows you to create power functions dynamically.\n",
    "\n",
    "def f5(a):\n",
    "    x=lambda b:b**a\n",
    "    return x\n",
    "\n",
    "# Create a square function (power of 2)\n",
    "sq = f5(2)\n",
    "print(sq(3))  # Output: 9 (3 squared)\n",
    "\n",
    "# Create a cube function (power of 3)\n",
    "cu = f5(3)\n",
    "print(cu(4))  # Output: 64 (4 cubed)"
   ]
  }
 ],
 "metadata": {
  "kernelspec": {
   "display_name": ".venv",
   "language": "python",
   "name": "python3"
  },
  "language_info": {
   "codemirror_mode": {
    "name": "ipython",
    "version": 3
   },
   "file_extension": ".py",
   "mimetype": "text/x-python",
   "name": "python",
   "nbconvert_exporter": "python",
   "pygments_lexer": "ipython3",
   "version": "3.11.9"
  }
 },
 "nbformat": 4,
 "nbformat_minor": 5
}
