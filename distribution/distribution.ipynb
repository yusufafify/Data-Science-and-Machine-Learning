{
 "cells": [
  {
   "cell_type": "markdown",
   "id": "f506af1b",
   "metadata": {},
   "source": [
    "## Normal vs Uniform Distribution"
   ]
  },
  {
   "cell_type": "code",
   "execution_count": 1,
   "id": "c650fa6c",
   "metadata": {},
   "outputs": [
    {
     "name": "stdout",
     "output_type": "stream",
     "text": [
      "Collecting matplotlib\n",
      "  Downloading matplotlib-3.10.3-cp311-cp311-win_amd64.whl.metadata (11 kB)\n",
      "Collecting contourpy>=1.0.1 (from matplotlib)\n",
      "  Downloading contourpy-1.3.2-cp311-cp311-win_amd64.whl.metadata (5.5 kB)\n",
      "Collecting cycler>=0.10 (from matplotlib)\n",
      "  Downloading cycler-0.12.1-py3-none-any.whl.metadata (3.8 kB)\n",
      "Collecting fonttools>=4.22.0 (from matplotlib)\n",
      "  Downloading fonttools-4.58.4-cp311-cp311-win_amd64.whl.metadata (108 kB)\n",
      "     ---------------------------------------- 0.0/108.7 kB ? eta -:--:--\n",
      "     ---------- -------------------------- 30.7/108.7 kB 660.6 kB/s eta 0:00:01\n",
      "     -------------------------------------- 108.7/108.7 kB 1.3 MB/s eta 0:00:00\n",
      "Collecting kiwisolver>=1.3.1 (from matplotlib)\n",
      "  Downloading kiwisolver-1.4.8-cp311-cp311-win_amd64.whl.metadata (6.3 kB)\n",
      "Requirement already satisfied: numpy>=1.23 in d:\\side_work\\data_science_ml\\.venv\\lib\\site-packages (from matplotlib) (2.3.0)\n",
      "Requirement already satisfied: packaging>=20.0 in d:\\side_work\\data_science_ml\\.venv\\lib\\site-packages (from matplotlib) (25.0)\n",
      "Collecting pillow>=8 (from matplotlib)\n",
      "  Downloading pillow-11.2.1-cp311-cp311-win_amd64.whl.metadata (9.1 kB)\n",
      "Collecting pyparsing>=2.3.1 (from matplotlib)\n",
      "  Downloading pyparsing-3.2.3-py3-none-any.whl.metadata (5.0 kB)\n",
      "Requirement already satisfied: python-dateutil>=2.7 in d:\\side_work\\data_science_ml\\.venv\\lib\\site-packages (from matplotlib) (2.9.0.post0)\n",
      "Requirement already satisfied: six>=1.5 in d:\\side_work\\data_science_ml\\.venv\\lib\\site-packages (from python-dateutil>=2.7->matplotlib) (1.17.0)\n",
      "Downloading matplotlib-3.10.3-cp311-cp311-win_amd64.whl (8.1 MB)\n",
      "   ---------------------------------------- 0.0/8.1 MB ? eta -:--:--\n",
      "   - -------------------------------------- 0.2/8.1 MB 5.0 MB/s eta 0:00:02\n",
      "   -- ------------------------------------- 0.5/8.1 MB 5.7 MB/s eta 0:00:02\n",
      "   ---- ----------------------------------- 1.0/8.1 MB 7.0 MB/s eta 0:00:02\n",
      "   ------- -------------------------------- 1.5/8.1 MB 7.7 MB/s eta 0:00:01\n",
      "   --------- ------------------------------ 1.9/8.1 MB 8.1 MB/s eta 0:00:01\n",
      "   ----------- ---------------------------- 2.4/8.1 MB 8.4 MB/s eta 0:00:01\n",
      "   -------------- ------------------------- 2.9/8.1 MB 8.8 MB/s eta 0:00:01\n",
      "   ---------------- ----------------------- 3.3/8.1 MB 8.9 MB/s eta 0:00:01\n",
      "   ------------------ --------------------- 3.8/8.1 MB 9.0 MB/s eta 0:00:01\n",
      "   --------------------- ------------------ 4.3/8.1 MB 9.1 MB/s eta 0:00:01\n",
      "   ----------------------- ---------------- 4.8/8.1 MB 9.2 MB/s eta 0:00:01\n",
      "   ------------------------- -------------- 5.2/8.1 MB 9.3 MB/s eta 0:00:01\n",
      "   ---------------------------- ----------- 5.7/8.1 MB 9.3 MB/s eta 0:00:01\n",
      "   ------------------------------ --------- 6.1/8.1 MB 9.3 MB/s eta 0:00:01\n",
      "   -------------------------------- ------- 6.6/8.1 MB 9.4 MB/s eta 0:00:01\n",
      "   ----------------------------------- ---- 7.1/8.1 MB 9.4 MB/s eta 0:00:01\n",
      "   ------------------------------------- -- 7.6/8.1 MB 9.5 MB/s eta 0:00:01\n",
      "   ---------------------------------------  8.0/8.1 MB 9.7 MB/s eta 0:00:01\n",
      "   ---------------------------------------- 8.1/8.1 MB 9.2 MB/s eta 0:00:00\n",
      "Downloading contourpy-1.3.2-cp311-cp311-win_amd64.whl (222 kB)\n",
      "   ---------------------------------------- 0.0/222.0 kB ? eta -:--:--\n",
      "   --------------------------------------- 222.0/222.0 kB 13.2 MB/s eta 0:00:00\n",
      "Downloading cycler-0.12.1-py3-none-any.whl (8.3 kB)\n",
      "Downloading fonttools-4.58.4-cp311-cp311-win_amd64.whl (2.2 MB)\n",
      "   ---------------------------------------- 0.0/2.2 MB ? eta -:--:--\n",
      "   ------- -------------------------------- 0.4/2.2 MB 12.6 MB/s eta 0:00:01\n",
      "   --------------- ------------------------ 0.9/2.2 MB 11.0 MB/s eta 0:00:01\n",
      "   ------------------------ --------------- 1.4/2.2 MB 10.7 MB/s eta 0:00:01\n",
      "   ------------------------------- -------- 1.8/2.2 MB 10.2 MB/s eta 0:00:01\n",
      "   ---------------------------------------  2.2/2.2 MB 10.2 MB/s eta 0:00:01\n",
      "   ---------------------------------------- 2.2/2.2 MB 9.5 MB/s eta 0:00:00\n",
      "Downloading kiwisolver-1.4.8-cp311-cp311-win_amd64.whl (71 kB)\n",
      "   ---------------------------------------- 0.0/72.0 kB ? eta -:--:--\n",
      "   ---------------------------------------- 72.0/72.0 kB 3.9 MB/s eta 0:00:00\n",
      "Downloading pillow-11.2.1-cp311-cp311-win_amd64.whl (2.7 MB)\n",
      "   ---------------------------------------- 0.0/2.7 MB ? eta -:--:--\n",
      "   ----- ---------------------------------- 0.4/2.7 MB 12.6 MB/s eta 0:00:01\n",
      "   ------------- -------------------------- 0.9/2.7 MB 11.3 MB/s eta 0:00:01\n",
      "   -------------------- ------------------- 1.4/2.7 MB 10.7 MB/s eta 0:00:01\n",
      "   --------------------------- ------------ 1.8/2.7 MB 10.6 MB/s eta 0:00:01\n",
      "   ---------------------------------- ----- 2.3/2.7 MB 10.4 MB/s eta 0:00:01\n",
      "   ---------------------------------------  2.7/2.7 MB 10.6 MB/s eta 0:00:01\n",
      "   ---------------------------------------- 2.7/2.7 MB 9.5 MB/s eta 0:00:00\n",
      "Downloading pyparsing-3.2.3-py3-none-any.whl (111 kB)\n",
      "   ---------------------------------------- 0.0/111.1 kB ? eta -:--:--\n",
      "   ---------------------------------------- 111.1/111.1 kB 6.3 MB/s eta 0:00:00\n",
      "Installing collected packages: pyparsing, pillow, kiwisolver, fonttools, cycler, contourpy, matplotlib\n",
      "Successfully installed contourpy-1.3.2 cycler-0.12.1 fonttools-4.58.4 kiwisolver-1.4.8 matplotlib-3.10.3 pillow-11.2.1 pyparsing-3.2.3\n"
     ]
    },
    {
     "name": "stderr",
     "output_type": "stream",
     "text": [
      "\n",
      "[notice] A new release of pip is available: 24.0 -> 25.1.1\n",
      "[notice] To update, run: python.exe -m pip install --upgrade pip\n"
     ]
    }
   ],
   "source": [
    "!pip install matplotlib"
   ]
  },
  {
   "cell_type": "code",
   "execution_count": 3,
   "id": "56e2c73d",
   "metadata": {},
   "outputs": [],
   "source": [
    "import matplotlib.pyplot as plt\n",
    "import numpy as np"
   ]
  },
  {
   "cell_type": "code",
   "execution_count": null,
   "id": "35151a98",
   "metadata": {},
   "outputs": [
    {
     "name": "stdout",
     "output_type": "stream",
     "text": [
      "Uniform Distribution: [ 0.15346907  3.59706572  3.58650963 ... -0.71806174  2.50214679\n",
      " -2.30095726]\n",
      "Normal Distribution: [-8.89229105 -2.51288798 -2.7717103  ... -2.00958862 -5.65963965\n",
      "  3.21263925]\n"
     ]
    }
   ],
   "source": [
    "\n",
    "# Generate uniform distribution random numbers between -4 and 4\n",
    "u=np.random.uniform(-4,4,1000000) \n",
    "\n",
    "# Generate normal distribution random numbers between -4 and 4\n",
    "n=np.random.normal(-4,4,1000000)\n",
    "\n",
    "print('Uniform Distribution:',u)\n",
    "print('Normal Distribution:',n)"
   ]
  },
  {
   "cell_type": "code",
   "execution_count": 11,
   "id": "3d5c03a1",
   "metadata": {},
   "outputs": [
    {
     "data": {
      "image/png": "[encoded data removed]",
      "text/plain": [
       "<Figure size 1000x400 with 2 Axes>"
      ]
     },
     "metadata": {},
     "output_type": "display_data"
    }
   ],
   "source": [
    "# Create a figure with 2 subplots side by side\n",
    "# figsize=(10, 4) makes the overall figure 10 inches wide and 4 inches tall\n",
    "fig, axes = plt.subplots(1, 2, figsize=(10, 4))  # 1 row, 2 columns\n",
    "\n",
    "# Create histogram for uniform distribution data (u) on the left subplot\n",
    "# bins=100 divides the data into 100 bars, color=\"steelblue\" makes it blue\n",
    "axes[0].hist(u, bins=100, color=\"steelblue\")\n",
    "# Add a title to the left subplot\n",
    "axes[0].set_title(\"Histogram of Uniform distribution\")\n",
    "\n",
    "# Create histogram for normal distribution data (n) on the right subplot\n",
    "# bins=100 divides the data into 100 bars, color=\"darkorange\" makes it orange\n",
    "axes[1].hist(n, bins=100, color=\"darkorange\")\n",
    "# Add a title to the right subplot\n",
    "axes[1].set_title(\"Histogram of Normal distribution\")\n",
    "\n",
    "# Automatically adjust spacing between plots to prevent overlap\n",
    "plt.tight_layout()   # clean spacing between the two plots\n",
    "# Display the complete figure with both histograms\n",
    "plt.show()"
   ]
  }
 ],
 "metadata": {
  "kernelspec": {
   "display_name": ".venv",
   "language": "python",
   "name": "python3"
  },
  "language_info": {
   "codemirror_mode": {
    "name": "ipython",
    "version": 3
   },
   "file_extension": ".py",
   "mimetype": "text/x-python",
   "name": "python",
   "nbconvert_exporter": "python",
   "pygments_lexer": "ipython3",
   "version": "3.11.9"
  }
 },
 "nbformat": 4,
 "nbformat_minor": 5
}
