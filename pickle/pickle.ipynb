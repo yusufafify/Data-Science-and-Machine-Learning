{
 "cells": [
  {
   "cell_type": "code",
   "execution_count": 1,
   "id": "d4258510",
   "metadata": {},
   "outputs": [],
   "source": [
    "import pickle"
   ]
  },
  {
   "cell_type": "markdown",
   "id": "4d8e4a70",
   "metadata": {},
   "source": [
    "# Pickle Module\n",
    "\n",
    "Pickle is Python's native serialization library that allows you to convert Python objects into a binary format that can be stored or transmitted, and then later reconstructed back into Python objects.\n",
    "\n",
    "## What Pickle Does\n",
    "\n",
    "- **Serialization**: Converts Python objects (lists, dictionaries, custom objects, etc.) into a binary byte stream\n",
    "- **Deserialization**: Reconstructs the original Python objects from the binary data\n",
    "- **Persistence**: Enables saving Python objects to files for later use\n",
    "- **Data Transfer**: Allows sending Python objects across network connections\n",
    "\n",
    "## Common Use Cases\n",
    "\n",
    "- Saving machine learning models\n",
    "- Caching computed results\n",
    "- Storing complex data structures\n",
    "- Inter-process communication\n",
    "- Creating backups of Python objects\n",
    "\n",
    "## Basic Operations\n",
    "\n",
    "- `pickle.dump()` - Save object to file\n",
    "- `pickle.load()` - Load object from file  \n",
    "- `pickle.dumps()` - Serialize to bytes\n",
    "- `pickle.loads()` - Deserialize from bytes"
   ]
  },
  {
   "cell_type": "code",
   "execution_count": null,
   "id": "ccda023a",
   "metadata": {},
   "outputs": [
    {
     "name": "stdout",
     "output_type": "stream",
     "text": [
      "Loaded data: {'name': 'Alice', 'age': 30, 'scores': [85, 92, 78]}\n"
     ]
    }
   ],
   "source": [
    "# Example 1: Pickling basic data types\n",
    "data = {'name': 'Alice', 'age': 30, 'scores': [85, 92, 78]}\n",
    "with open('data.pkl', 'wb') as f:\n",
    "    pickle.dump(data, f)\n",
    "\n",
    "# Example 2: Loading pickled data\n",
    "with open('data.pkl', 'rb') as f:\n",
    "    loaded_data = pickle.load(f)\n",
    "print(\"Loaded data:\", loaded_data)\n",
    "\n",
    "\n",
    "\n"
   ]
  },
  {
   "cell_type": "code",
   "execution_count": 6,
   "id": "b82bced8",
   "metadata": {},
   "outputs": [
    {
     "name": "stdout",
     "output_type": "stream",
     "text": [
      "Original: [1, 2, 3, 'hello', [4, 5]]\n",
      "Serialized: b'\\x80\\x04\\x95\\x1b\\x00\\x00\\x00\\x00\\x00\\x00\\x00]\\x94(K\\x01K\\x02K\\x03\\x8c\\x05hello\\x94]\\x94(K\\x04K\\x05ee.'\n",
      "Deserialized: [1, 2, 3, 'hello', [4, 5]]\n"
     ]
    }
   ],
   "source": [
    "# Example 3: Using dumps/loads (serialize to/from bytes)\n",
    "my_list = [1, 2, 3, 'hello', [4, 5]]\n",
    "serialized = pickle.dumps(my_list)\n",
    "deserialized = pickle.loads(serialized)\n",
    "print(\"Original:\", my_list)\n",
    "print(\"Serialized:\",serialized)\n",
    "print(\"Deserialized:\", deserialized)"
   ]
  },
  {
   "cell_type": "code",
   "execution_count": 8,
   "id": "9e0a4eb7",
   "metadata": {},
   "outputs": [
    {
     "name": "stdout",
     "output_type": "stream",
     "text": [
      "Person Bytes: b'\\x80\\x04\\x954\\x00\\x00\\x00\\x00\\x00\\x00\\x00\\x8c\\x08__main__\\x94\\x8c\\x06Person\\x94\\x93\\x94)\\x81\\x94}\\x94(\\x8c\\x04name\\x94\\x8c\\x03Bob\\x94\\x8c\\x03age\\x94K\\x19ub.'\n",
      "Restored person: Person('Bob', 25)\n"
     ]
    }
   ],
   "source": [
    "# Example 4: Pickling custom objects\n",
    "class Person:\n",
    "    def __init__(self, name, age):\n",
    "        self.name = name\n",
    "        self.age = age\n",
    "    \n",
    "    def __repr__(self):\n",
    "        return f\"Person('{self.name}', {self.age})\"\n",
    "\n",
    "person = Person(\"Bob\", 25)\n",
    "person_bytes = pickle.dumps(person)\n",
    "restored_person = pickle.loads(person_bytes)\n",
    "print('Person Bytes:',person_bytes)\n",
    "print(\"Restored person:\", restored_person)"
   ]
  }
 ],
 "metadata": {
  "kernelspec": {
   "display_name": ".venv",
   "language": "python",
   "name": "python3"
  },
  "language_info": {
   "codemirror_mode": {
    "name": "ipython",
    "version": 3
   },
   "file_extension": ".py",
   "mimetype": "text/x-python",
   "name": "python",
   "nbconvert_exporter": "python",
   "pygments_lexer": "ipython3",
   "version": "3.11.9"
  }
 },
 "nbformat": 4,
 "nbformat_minor": 5
}
