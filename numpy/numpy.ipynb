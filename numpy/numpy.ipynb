{
 "cells": [
  {
   "cell_type": "code",
   "execution_count": 1,
   "id": "a371cc25",
   "metadata": {},
   "outputs": [
    {
     "name": "stdout",
     "output_type": "stream",
     "text": [
      "Collecting numpy\n",
      "  Downloading numpy-2.3.0-cp311-cp311-win_amd64.whl.metadata (60 kB)\n",
      "     ---------------------------------------- 0.0/60.9 kB ? eta -:--:--\n",
      "     ------------ ------------------------- 20.5/60.9 kB 320.0 kB/s eta 0:00:01\n",
      "     -------------------------------------- 60.9/60.9 kB 641.1 kB/s eta 0:00:00\n",
      "Downloading numpy-2.3.0-cp311-cp311-win_amd64.whl (13.0 MB)\n",
      "   ---------------------------------------- 0.0/13.0 MB ? eta -:--:--\n",
      "   ---------------------------------------- 0.0/13.0 MB 1.9 MB/s eta 0:00:07\n",
      "   ---------------------------------------- 0.1/13.0 MB 1.4 MB/s eta 0:00:09\n",
      "    --------------------------------------- 0.2/13.0 MB 1.8 MB/s eta 0:00:08\n",
      "   - -------------------------------------- 0.3/13.0 MB 2.0 MB/s eta 0:00:07\n",
      "   - -------------------------------------- 0.5/13.0 MB 2.2 MB/s eta 0:00:06\n",
      "   - -------------------------------------- 0.6/13.0 MB 2.3 MB/s eta 0:00:06\n",
      "   -- ------------------------------------- 0.8/13.0 MB 2.4 MB/s eta 0:00:06\n",
      "   -- ------------------------------------- 0.9/13.0 MB 2.6 MB/s eta 0:00:05\n",
      "   --- ------------------------------------ 1.1/13.0 MB 2.6 MB/s eta 0:00:05\n",
      "   --- ------------------------------------ 1.2/13.0 MB 2.7 MB/s eta 0:00:05\n",
      "   ---- ----------------------------------- 1.4/13.0 MB 2.8 MB/s eta 0:00:05\n",
      "   ---- ----------------------------------- 1.6/13.0 MB 2.9 MB/s eta 0:00:04\n",
      "   ----- ---------------------------------- 1.8/13.0 MB 3.0 MB/s eta 0:00:04\n",
      "   ------ --------------------------------- 2.0/13.0 MB 3.2 MB/s eta 0:00:04\n",
      "   ------ --------------------------------- 2.2/13.0 MB 3.2 MB/s eta 0:00:04\n",
      "   ------- -------------------------------- 2.5/13.0 MB 3.3 MB/s eta 0:00:04\n",
      "   -------- ------------------------------- 2.7/13.0 MB 3.5 MB/s eta 0:00:03\n",
      "   --------- ------------------------------ 3.0/13.0 MB 3.6 MB/s eta 0:00:03\n",
      "   --------- ------------------------------ 3.2/13.0 MB 3.7 MB/s eta 0:00:03\n",
      "   ---------- ----------------------------- 3.5/13.0 MB 3.8 MB/s eta 0:00:03\n",
      "   ----------- ---------------------------- 3.8/13.0 MB 3.9 MB/s eta 0:00:03\n",
      "   ------------ --------------------------- 4.1/13.0 MB 4.1 MB/s eta 0:00:03\n",
      "   ------------- -------------------------- 4.4/13.0 MB 4.2 MB/s eta 0:00:03\n",
      "   -------------- ------------------------- 4.8/13.0 MB 4.4 MB/s eta 0:00:02\n",
      "   --------------- ------------------------ 5.2/13.0 MB 4.5 MB/s eta 0:00:02\n",
      "   ---------------- ----------------------- 5.5/13.0 MB 4.6 MB/s eta 0:00:02\n",
      "   ------------------ --------------------- 5.9/13.0 MB 4.8 MB/s eta 0:00:02\n",
      "   ------------------- -------------------- 6.4/13.0 MB 5.0 MB/s eta 0:00:02\n",
      "   -------------------- ------------------- 6.8/13.0 MB 5.1 MB/s eta 0:00:02\n",
      "   ---------------------- ----------------- 7.3/13.0 MB 5.3 MB/s eta 0:00:02\n",
      "   ----------------------- ---------------- 7.8/13.0 MB 5.5 MB/s eta 0:00:01\n",
      "   ------------------------- -------------- 8.3/13.0 MB 5.6 MB/s eta 0:00:01\n",
      "   -------------------------- ------------- 8.7/13.0 MB 5.8 MB/s eta 0:00:01\n",
      "   ---------------------------- ----------- 9.2/13.0 MB 5.9 MB/s eta 0:00:01\n",
      "   ----------------------------- ---------- 9.7/13.0 MB 6.0 MB/s eta 0:00:01\n",
      "   ------------------------------- -------- 10.2/13.0 MB 6.1 MB/s eta 0:00:01\n",
      "   -------------------------------- ------- 10.6/13.0 MB 6.8 MB/s eta 0:00:01\n",
      "   ---------------------------------- ----- 11.1/13.0 MB 7.4 MB/s eta 0:00:01\n",
      "   ----------------------------------- ---- 11.6/13.0 MB 7.8 MB/s eta 0:00:01\n",
      "   ------------------------------------- -- 12.1/13.0 MB 8.4 MB/s eta 0:00:01\n",
      "   -------------------------------------- - 12.6/13.0 MB 8.7 MB/s eta 0:00:01\n",
      "   ---------------------------------------  13.0/13.0 MB 9.1 MB/s eta 0:00:01\n",
      "   ---------------------------------------- 13.0/13.0 MB 8.7 MB/s eta 0:00:00\n",
      "Installing collected packages: numpy\n",
      "Successfully installed numpy-2.3.0\n"
     ]
    },
    {
     "name": "stderr",
     "output_type": "stream",
     "text": [
      "\n",
      "[notice] A new release of pip is available: 24.0 -> 25.1.1\n",
      "[notice] To update, run: python.exe -m pip install --upgrade pip\n"
     ]
    }
   ],
   "source": [
    "!pip install numpy"
   ]
  },
  {
   "cell_type": "code",
   "execution_count": 3,
   "id": "bdbbaf04",
   "metadata": {},
   "outputs": [],
   "source": [
    "import numpy as np\n",
    "import time"
   ]
  },
  {
   "cell_type": "code",
   "execution_count": 6,
   "id": "6acab33d",
   "metadata": {},
   "outputs": [],
   "source": [
    "# This function provides a comprehensive summary of a numpy array's properties\n",
    "# It displays the array's dimensional structure, shape, total number of elements, and data type\n",
    "def describe(arr: np.ndarray) -> None:    \n",
    "    \"\"\"Prints out the summary of an array\"\"\"\n",
    "    print(f'dimension: {arr.ndim}')  # Shows the number of axes/dimensions of the array (1D, 2D, 3D, etc.)\n",
    "    print(f'shape: {arr.shape}')    # Shows the size of each dimension as a tuple (e.g., (4,) for 1D array with 4 elements)\n",
    "    print(f'size: {arr.size}')      # Shows the total number of elements in the array\n",
    "    print(f'dtype: {arr.dtype}')    # Shows the data type of elements stored in the array (int64, float64, etc.)"
   ]
  },
  {
   "cell_type": "code",
   "execution_count": 9,
   "id": "537dc845",
   "metadata": {},
   "outputs": [],
   "source": [
    "# Create two sample lists for demonstration\n",
    "# list1 contains integers from 1 to 6\n",
    "# list2 contains integers from 4 to 9\n",
    "\n",
    "list1 = [1,2,3,4,5,6]\n",
    "list2 = [4,5,6,7,8,9]"
   ]
  },
  {
   "cell_type": "code",
   "execution_count": 10,
   "id": "204c6eff",
   "metadata": {},
   "outputs": [
    {
     "name": "stdout",
     "output_type": "stream",
     "text": [
      "[1 2 3 4]\n",
      "dimension: 1\n",
      "shape: (4,)\n",
      "size: 4\n",
      "dtype: int64\n"
     ]
    }
   ],
   "source": [
    "# Convert a tuple to a numpy array\n",
    "# This demonstrates numpy array creation from tuple data\n",
    "arr1 = np.array((1,2,3,4))\n",
    "\n",
    "print(arr1)\n",
    "describe(arr1)"
   ]
  },
  {
   "cell_type": "code",
   "execution_count": null,
   "id": "408e1641",
   "metadata": {},
   "outputs": [
    {
     "name": "stdout",
     "output_type": "stream",
     "text": [
      "[[1 2 3 4 5 6]\n",
      " [4 5 6 7 8 9]\n",
      " [1 2 3 4 5 6]]\n",
      "dimension: 2\n",
      "shape: (3, 6)\n",
      "size: 18\n",
      "dtype: int64\n"
     ]
    }
   ],
   "source": [
    "# Create a 2D numpy array from existing lists\n",
    "# This demonstrates creating a multi-dimensional array by combining list1, list2, and list1 again\n",
    "# The resulting array will have shape (3, 6) - 3 rows and 6 columns\n",
    "arr2=np.array([list1,list2,list1], dtype=np.float64)\n",
    "\n",
    "print(arr2)\n",
    "describe(arr2)"
   ]
  },
  {
   "cell_type": "code",
   "execution_count": null,
   "id": "81b638a9",
   "metadata": {},
   "outputs": [
    {
     "name": "stdout",
     "output_type": "stream",
     "text": [
      "[[1 1 1]\n",
      " [1 1 1]]\n",
      "dimension: 2\n",
      "shape: (2, 3)\n",
      "size: 6\n",
      "dtype: int64\n"
     ]
    }
   ],
   "source": [
    "# Create a 1D/2D/3D/etc... numpy array filled with ones using np.ones()\n",
    "# np.ones() is a numpy method that creates an array of specified shape filled with the value 1\n",
    "# You can specify the shape, data type, and other parameters to customize the array\n",
    "# This demonstrates creating an array with a specific shape and data type\n",
    "# In this example, The array will have shape (2,3) with all elements initialized to 1\n",
    "# Using int64 data type for integer values\n",
    "arr3=np.ones(shape=(2,3), dtype=np.int64)\n",
    "\n",
    "print(arr3)\n",
    "describe(arr3)"
   ]
  },
  {
   "cell_type": "code",
   "execution_count": null,
   "id": "e0ec7fb0",
   "metadata": {},
   "outputs": [
    {
     "name": "stdout",
     "output_type": "stream",
     "text": [
      "[[0. 0. 0. 0.]\n",
      " [0. 0. 0. 0.]]\n",
      "dimension: 2\n",
      "shape: (2, 4)\n",
      "size: 8\n",
      "dtype: float64\n"
     ]
    }
   ],
   "source": [
    "# Create a 1D/2D/3D/etc... numpy array filled with zeros using np.zeros()\n",
    "# np.zeros() is a numpy method that creates an array of specified shape filled with the value 0\n",
    "# You can specify the shape, data type, and other parameters to customize the array\n",
    "# This demonstrates creating an array with a specific shape and data type\n",
    "# In this example, The array will have shape (2,4) with all elements initialized to 0\n",
    "# Using double data type for floating-point values\n",
    "arr4=np.zeros(shape=(2,4),dtype=np.double)\n",
    "\n",
    "print(arr4)\n",
    "describe(arr4)"
   ]
  },
  {
   "cell_type": "code",
   "execution_count": null,
   "id": "6844bf78",
   "metadata": {},
   "outputs": [
    {
     "name": "stdout",
     "output_type": "stream",
     "text": [
      "[0 1 2 3 4 5 6 7 8 9]\n",
      "dimension: 1\n",
      "shape: (10,)\n",
      "size: 10\n",
      "dtype: int64\n"
     ]
    }
   ],
   "source": [
    "# Create a 1D numpy array with sequential values using np.arange()\n",
    "# np.arange() is a numpy method that creates an array with evenly spaced values within a given interval\n",
    "# You can specify start, stop, and step parameters to customize the sequence\n",
    "# This demonstrates creating an array with sequential integers from 0 to 9\n",
    "# In this example, np.arange(10) creates an array with values [0, 1, 2, 3, 4, 5, 6, 7, 8, 9]\n",
    "arr5=np.arange(10)\n",
    "\n",
    "print(arr5)\n",
    "describe(arr5)"
   ]
  },
  {
   "cell_type": "code",
   "execution_count": null,
   "id": "fad17acf",
   "metadata": {},
   "outputs": [
    {
     "name": "stdout",
     "output_type": "stream",
     "text": [
      "[ 0.          3.33333333  6.66666667 10.         13.33333333 16.66666667\n",
      " 20.         23.33333333 26.66666667 30.        ]\n",
      "dimension: 1\n",
      "shape: (10,)\n",
      "size: 10\n",
      "dtype: float64\n"
     ]
    }
   ],
   "source": [
    "# Create a 1D numpy array with evenly spaced values using np.linspace()\n",
    "# np.linspace() is a numpy method that creates an array with a specified number of evenly spaced values over a given interval\n",
    "# You can specify start, stop, and num parameters to customize the sequence\n",
    "# This demonstrates creating an array with 10 evenly spaced values from 0 to 30\n",
    "# In this example, np.linspace(0,30,10) creates an array with 10 values evenly distributed between 0 and 30 (inclusive)\n",
    "arr6=np.linspace(0,30,10)\n",
    "\n",
    "print(arr6)\n",
    "describe(arr6)"
   ]
  },
  {
   "cell_type": "code",
   "execution_count": 33,
   "id": "6343da9b",
   "metadata": {},
   "outputs": [
    {
     "name": "stdout",
     "output_type": "stream",
     "text": [
      "[[0.8264876  0.11554209]\n",
      " [0.30171435 0.72207295]]\n",
      "dimension: 2\n",
      "shape: (2, 2)\n",
      "size: 4\n",
      "dtype: float64\n"
     ]
    }
   ],
   "source": [
    "# Create a 2D numpy array with random values using np.random.rand()\n",
    "# np.random.rand() is a numpy method that creates an array of specified shape filled with random values from a uniform distribution over [0, 1)\n",
    "# You can specify the shape as separate arguments to customize the array dimensions\n",
    "# This demonstrates creating a 2x2 array with random floating-point values between 0 and 1\n",
    "# In this example, np.random.rand(2,2) creates a 2D array with shape (2,2) filled with random numbers\n",
    "arr7=np.random.rand(2,2)\n",
    "\n",
    "print(arr7)\n",
    "describe(arr7)"
   ]
  },
  {
   "cell_type": "code",
   "execution_count": null,
   "id": "5ec48601",
   "metadata": {},
   "outputs": [
    {
     "name": "stdout",
     "output_type": "stream",
     "text": [
      "[0. 0. 0. 0. 0. 0. 0. 0.]\n",
      "dimension: 1\n",
      "shape: (8,)\n",
      "size: 8\n",
      "dtype: float64\n"
     ]
    }
   ],
   "source": [
    "# Reshape a 2D numpy array into a 1D array using np.reshape()\n",
    "# np.reshape() is a numpy method that changes the shape of an array without changing its data\n",
    "# The total number of elements must remain the same (original shape: 2x4 = 8 elements)\n",
    "# This demonstrates converting arr4 from shape (2,4) to shape (8,) - flattening it into a 1D array\n",
    "# In this example, arr4.reshape(8) converts the 2D array into a 1D array with 8 elements\n",
    "arr8=arr4.reshape(8)\n",
    "\n",
    "print(arr8)\n",
    "describe(arr8)"
   ]
  },
  {
   "cell_type": "code",
   "execution_count": null,
   "id": "a0760b7f",
   "metadata": {},
   "outputs": [
    {
     "name": "stdout",
     "output_type": "stream",
     "text": [
      "[1. 1. 1. 1. 1. 1. 1. 1.]\n",
      "dimension: 1\n",
      "shape: (8,)\n",
      "size: 8\n",
      "dtype: float64\n"
     ]
    }
   ],
   "source": [
    "# Create a numpy array with ones using np.ones_like()\n",
    "# np.ones_like() is a numpy method that creates an array of ones with the same shape and data type as the input array\n",
    "# This is useful when you want to create a new array that matches the dimensions of an existing array\n",
    "# In this example, np.ones_like(arr8) creates an array with the same shape as arr8 (1D with 8 elements) filled with 1s\n",
    "# The data type will also match arr8's data type (float64)\n",
    "arr9=np.ones_like(arr8)\n",
    "\n",
    "print(arr9)\n",
    "describe(arr9)"
   ]
  },
  {
   "cell_type": "code",
   "execution_count": null,
   "id": "20d5bc68",
   "metadata": {},
   "outputs": [
    {
     "name": "stdout",
     "output_type": "stream",
     "text": [
      "[[[8 8 8 8 8 8]\n",
      "  [8 8 8 8 8 8]]\n",
      "\n",
      " [[8 8 8 8 8 8]\n",
      "  [8 8 8 8 8 8]]]\n",
      "dimension: 3\n",
      "shape: (2, 2, 6)\n",
      "size: 24\n",
      "dtype: int64\n"
     ]
    }
   ],
   "source": [
    "# Create a numpy array filled with a specific value using np.full()\n",
    "# np.full() is a numpy method that creates an array of specified shape filled with a given fill_value\n",
    "# You can specify the shape, fill_value, and data type to customize the array\n",
    "# This demonstrates creating a 3D array with shape (2,2,6) where all elements are set to 8\n",
    "# In this example, np.full(shape=(2,2,6), fill_value=8) creates a 3D array with 24 total elements (2*2*6), all set to 8\n",
    "arr10=np.full(shape=(2,2,6), fill_value=8)\n",
    "\n",
    "print(arr10)\n",
    "describe(arr10)"
   ]
  },
  {
   "cell_type": "code",
   "execution_count": null,
   "id": "19f9c4ac",
   "metadata": {},
   "outputs": [
    {
     "name": "stdout",
     "output_type": "stream",
     "text": [
      "[[1. 0. 0. 0. 0.]\n",
      " [0. 1. 0. 0. 0.]\n",
      " [0. 0. 1. 0. 0.]\n",
      " [0. 0. 0. 1. 0.]\n",
      " [0. 0. 0. 0. 1.]]\n",
      "dimension: 2\n",
      "shape: (5, 5)\n",
      "size: 25\n",
      "dtype: float64\n"
     ]
    }
   ],
   "source": [
    "# Create a 2D identity matrix using np.eye()\n",
    "# np.eye() is a numpy method that creates a 2D identity matrix with ones on the main diagonal and zeros elsewhere\n",
    "# You can specify N (number of rows/columns) to create an NxN square identity matrix\n",
    "# This is commonly used in linear algebra operations and matrix computations\n",
    "# In this example, np.eye(N=5) creates a 5x5 identity matrix with 1s on the diagonal and 0s elsewhere\n",
    "arr11=np.eye(N=5)\n",
    "\n",
    "print(arr11)\n",
    "describe(arr11)"
   ]
  },
  {
   "cell_type": "code",
   "execution_count": null,
   "id": "addc49eb",
   "metadata": {},
   "outputs": [
    {
     "name": "stdout",
     "output_type": "stream",
     "text": [
      "a= [1 2 3 4 5], and b= [1 0 1 0 1]\n"
     ]
    }
   ],
   "source": [
    "#Arithmetic Array Operation using Numpy\n",
    "\n",
    "# We'll create two arrays 'a' and 'b' and show how numpy performs element-wise operations\n",
    "# Array 'a' contains sequential integers from 1 to 5\n",
    "# Array 'b' contains alternating 1s and 0s, which is useful for demonstrating multiplication and division effects\n",
    "a=np.array([1,2,3,4,5])\n",
    "b=np.array([1,0,1,0,1])\n",
    "\n",
    "print(f'a= {a}, and b= {b}')"
   ]
  },
  {
   "cell_type": "code",
   "execution_count": null,
   "id": "c858f866",
   "metadata": {},
   "outputs": [
    {
     "name": "stdout",
     "output_type": "stream",
     "text": [
      "a+b:  [2 2 4 4 6]\n",
      "a-b:  [0 2 2 4 4]\n",
      "a*b:  [1 0 3 0 5]\n",
      "b/a:  [1.         0.         0.33333333 0.         0.2       ]\n",
      "a**b:  [1 1 3 1 5]\n",
      "b%a:  [0 0 1 0 1]\n",
      "----------------------------------------------------------------------\n",
      "a+10:  [11 12 13 14 15]\n",
      "a-10:  [-9 -8 -7 -6 -5]\n",
      "a*10:  [10 20 30 40 50]\n",
      "a/10:  [0.1 0.2 0.3 0.4 0.5]\n",
      "a**10:  [      1    1024   59049 1048576 9765625]\n",
      "----------------------------------------------------------------------\n"
     ]
    }
   ],
   "source": [
    "print('a+b: ',a+b)  # Element-wise Addition\n",
    "print('a-b: ',a-b)  # Element-wise subtraction\n",
    "print('a*b: ',a*b)  # Element-wise multiplication\n",
    "print('b/a: ',b/a)  # Element-wise division (note: division by zero will result in inf)\n",
    "print('a**b: ',a**b)  # Element-wise exponentiation (a raised to the power of b)\n",
    "print('b%a: ',b%a)  # Element-wise modulo operation (remainder after division)\n",
    "\n",
    "print('-'*70)\n",
    "\n",
    "# Broadcasting operations with scalar values\n",
    "# NumPy allows operations between arrays and scalar values by broadcasting the scalar to match the array shape\n",
    "print('a+10: ',a+10)  # Add scalar to each element of array \n",
    "print('a-10: ',a-10)  # Subtract scalar from each element of array\n",
    "print('a*10: ',a*10)  # Multiply each element of array by scalar\n",
    "print('a/10: ',a/10)  # Divide each element of array by scalar\n",
    "print('a**10: ',a**10)  # Raise each element of array to the power of a scalar\n",
    "\n",
    "print('-'*70)\n"
   ]
  },
  {
   "cell_type": "code",
   "execution_count": null,
   "id": "6e4dca5c",
   "metadata": {},
   "outputs": [
    {
     "name": "stdout",
     "output_type": "stream",
     "text": [
      "c: [[1]\n",
      " [2]\n",
      " [3]\n",
      " [4]\n",
      " [5]]\n"
     ]
    }
   ],
   "source": [
    "# Create a column vector using numpy array\n",
    "# This demonstrates creating a 2D array with shape (5,1) - a column vector\n",
    "# The array 'c' contains values 1-5 arranged vertically in a single column\n",
    "# This is useful for matrix operations and linear algebra computations\n",
    "c=np.array([[1],[2],[3],[4],[5]])\n",
    "\n",
    "print('c:',c)"
   ]
  },
  {
   "cell_type": "code",
   "execution_count": null,
   "id": "755a6d1d",
   "metadata": {},
   "outputs": [
    {
     "name": "stdout",
     "output_type": "stream",
     "text": [
      "a.c:  [55]\n",
      "---------------------------------------------------------------------- \n",
      "Statistics over whole array (all elements)\n",
      "c min:  1\n",
      "c max:  5\n",
      "c sum:  15\n",
      "c mean:  3.0\n"
     ]
    }
   ],
   "source": [
    "print('a.c: ', a.dot(c)) # dot product of a and c\n",
    "print('-'*70,'\\nStatistics over whole array (all elements)')\n",
    "\n",
    "print('c min: ',c.min())  # Find the minimum value across all elements in the array\n",
    "print('c max: ', c.max())  # Find the maximum value across all elements in the array\n",
    "print('c sum: ',c.sum())  # Calculate the sum of all elements in the array\n",
    "print('c mean: ',c.mean())  # Calculate the arithmetic mean (average) of all elements in the array\n"
   ]
  },
  {
   "cell_type": "code",
   "execution_count": 60,
   "id": "4ca58afc",
   "metadata": {},
   "outputs": [
    {
     "name": "stdout",
     "output_type": "stream",
     "text": [
      "[[10 20]\n",
      " [30 40]\n",
      " [50 60]\n",
      " [70 80]]\n"
     ]
    }
   ],
   "source": [
    "# Create a 2D numpy array with sample data for matrix operations\n",
    "# This demonstrates creating a 4x2 array with paired values\n",
    "# The array 'd' contains 4 rows and 2 columns with values ranging from 10 to 80\n",
    "# This will be useful for demonstrating matrix operations and 2D array manipulations\n",
    "d=np.array([[10,20],[30,40],[50,60],[70,80]])\n",
    "\n",
    "print(d)"
   ]
  },
  {
   "cell_type": "code",
   "execution_count": 62,
   "id": "d681cff2",
   "metadata": {},
   "outputs": [
    {
     "name": "stdout",
     "output_type": "stream",
     "text": [
      "d min (columns):  [10 20]\n",
      "d min (rows):  [10 30 50 70]\n",
      "d max (columns):  [70 80]\n",
      "d max (rows):  [20 40 60 80]\n",
      "d sum (columns):  [160 200]\n",
      "d sum (rows):  [ 30  70 110 150]\n",
      "d mean (columns):  [40. 50.]\n",
      "d mean (rows):  [15. 35. 55. 75.]\n"
     ]
    }
   ],
   "source": [
    "# Demonstrate axis-based statistical operations on 2D arrays\n",
    "# axis=0 operates along columns (down the rows), axis=1 operates along rows (across the columns)\n",
    "\n",
    "print('d min (columns): ',d.min(axis=0))  # Find minimum value in each column (compares values down each column)\n",
    "print('d min (rows): ',d.min(axis=1))     # Find minimum value in each row (compares values across each row)\n",
    "\n",
    "print('d max (columns): ',d.max(axis=0))  # Find maximum value in each column (compares values down each column)\n",
    "print('d max (rows): ',d.max(axis=1))     # Find maximum value in each row (compares values across each row)\n",
    "\n",
    "print('d sum (columns): ',d.sum(axis=0))  # Calculate sum of values in each column (adds values down each column)\n",
    "print('d sum (rows): ',d.sum(axis=1))     # Calculate sum of values in each row (adds values across each row)\n",
    "\n",
    "print('d mean (columns): ',d.mean(axis=0))  # Calculate mean of values in each column (averages values down each column)\n",
    "print('d mean (rows): ',d.mean(axis=1))     # Calculate mean of values in each row (averages values across each row)"
   ]
  }
 ],
 "metadata": {
  "kernelspec": {
   "display_name": ".venv",
   "language": "python",
   "name": "python3"
  },
  "language_info": {
   "codemirror_mode": {
    "name": "ipython",
    "version": 3
   },
   "file_extension": ".py",
   "mimetype": "text/x-python",
   "name": "python",
   "nbconvert_exporter": "python",
   "pygments_lexer": "ipython3",
   "version": "3.11.9"
  }
 },
 "nbformat": 4,
 "nbformat_minor": 5
}
